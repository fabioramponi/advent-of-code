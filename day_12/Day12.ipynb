{
 "cells": [
  {
   "cell_type": "code",
   "execution_count": 45,
   "metadata": {},
   "outputs": [
    {
     "name": "stdout",
     "output_type": "stream",
     "text": [
      "answer_1: 3230\n",
      "answer_2: 83475\n"
     ]
    }
   ],
   "source": [
    "from collections import defaultdict\n",
    "from copy import copy\n",
    "\n",
    "class Graph:\n",
    "    def __init__(self):\n",
    "        self.graph = defaultdict(list)\n",
    "        self.all_paths = []\n",
    "        \n",
    "        \n",
    "    def add_edge(self, s,e):\n",
    "        self.graph[s].append(e)\n",
    "        self.graph[e].append(s)\n",
    "        \n",
    "        \n",
    "    def calcAllPathsUtil(self, u, d, visited, path, puzzle_part):\n",
    "     \n",
    "        # Mark the current node as visited and store in path\n",
    "        if (u.islower()):\n",
    "            visited.append(u)\n",
    "        path.append(u)\n",
    " \n",
    "        # If current vertex is same as destination, then print\n",
    "        # current path[]\n",
    "        if u == d:\n",
    "            self.all_paths.append(copy(path))\n",
    "        else:\n",
    "            # If current vertex is not destination\n",
    "            # Recur for all the vertices adjacent to this vertex\n",
    "            \n",
    "            for i in self.graph[u]:\n",
    "                if not i.islower() or i not in visited or (puzzle_part==2 and (i!=\"start\" and len(set(visited))==len(visited))):\n",
    "                    self.calcAllPathsUtil(i, d, visited, path, puzzle_part)\n",
    "                     \n",
    "        # Remove current vertex from path[] and mark it as unvisited\n",
    "        path.pop()\n",
    "        if (u.islower()):\n",
    "            visited.remove(u)\n",
    "  \n",
    "  \n",
    "    # Prints all paths from 's' to 'd'\n",
    "    def calcAllPaths(self, s, d, puzzle_part):\n",
    " \n",
    "        # Mark all the vertices as not visited\n",
    "        visited = []\n",
    "        self.all_paths.clear()\n",
    " \n",
    "        # Create an array to store paths\n",
    "        path = []\n",
    " \n",
    "        # Call the recursive helper function to print all paths\n",
    "        self.calcAllPathsUtil(s, d, visited, path, puzzle_part)\n",
    "\n",
    "with open(\"input.txt\", \"r\") as f:\n",
    "    lines=f.read().splitlines()\n",
    "    graph = Graph()\n",
    "    for l in lines:\n",
    "        graph.add_edge(*l.split(\"-\"))\n",
    "\n",
    "graph.calcAllPaths(\"start\", \"end\", puzzle_part=1)\n",
    "\n",
    "answer_1 = len(graph.all_paths)\n",
    "\n",
    "graph.calcAllPaths(\"start\", \"end\", puzzle_part=2)\n",
    "#print(\"\\n\".join(list(map(lambda l: \"-\".join(l), graph.all_paths))))\n",
    "\n",
    "answer_2 = len(graph.all_paths)\n",
    "\n",
    "print(f\"answer_1: {answer_1}\")\n",
    "print(f\"answer_2: {answer_2}\")\n",
    "\n",
    "  \n",
    "    \n",
    "        \n",
    "        \n",
    "        "
   ]
  }
 ],
 "metadata": {
  "interpreter": {
   "hash": "d8c346c07515e26576ee8584eb88add6946456e578d3a189ac90c2a0320343e6"
  },
  "kernelspec": {
   "display_name": "Python 3.9.5 64-bit ('aoc2021': conda)",
   "language": "python",
   "name": "python3"
  },
  "language_info": {
   "codemirror_mode": {
    "name": "ipython",
    "version": 3
   },
   "file_extension": ".py",
   "mimetype": "text/x-python",
   "name": "python",
   "nbconvert_exporter": "python",
   "pygments_lexer": "ipython3",
   "version": "3.9.5"
  },
  "orig_nbformat": 4
 },
 "nbformat": 4,
 "nbformat_minor": 2
}
