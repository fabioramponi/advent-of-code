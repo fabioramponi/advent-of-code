{
 "cells": [
  {
   "cell_type": "code",
   "execution_count": 18,
   "metadata": {},
   "outputs": [
    {
     "data": {
      "text/plain": [
       "1690020"
      ]
     },
     "execution_count": 18,
     "metadata": {},
     "output_type": "execute_result"
    }
   ],
   "source": [
    "import pandas as pd\n",
    "from dataclasses import dataclass\n",
    "\n",
    "@dataclass\n",
    "class Position:\n",
    "        hpos: int\n",
    "        depth: int\n",
    "        aim: int\n",
    "        \n",
    "        def multiply(self) -> int:\n",
    "                return self.hpos * self.depth\n",
    "        \n",
    "        def reset(self):\n",
    "                self.aim = 0\n",
    "                self.hpos = 0\n",
    "                self.depth = 0\n",
    "\n",
    "movements = pd.read_csv(\"input.txt\", sep=\" \", names=[\"direction\", \"amount\"])\n",
    "pos = Position(0, 0, 0)\n",
    "pos.hpos = movements[movements[\"direction\"]==\"forward\"][\"amount\"].sum()\n",
    "pos.depth = movements[movements[\"direction\"]==\"down\"][\"amount\"].sum() - movements[movements[\"direction\"]==\"up\"][\"amount\"].sum()\n",
    "answer_1 = pos.multiply()\n",
    "answer_1\n"
   ]
  },
  {
   "cell_type": "code",
   "execution_count": 27,
   "metadata": {},
   "outputs": [
    {
     "data": {
      "text/plain": [
       "1408487760"
      ]
     },
     "execution_count": 27,
     "metadata": {},
     "output_type": "execute_result"
    }
   ],
   "source": [
    "pos.reset\n",
    "\n",
    "for index, move in movements.iterrows():\n",
    "    if (move[\"direction\"]==\"forward\"):\n",
    "        pos.hpos += move[\"amount\"]\n",
    "        pos.depth += pos.aim * move[\"amount\"]\n",
    "    else:\n",
    "        if move[\"direction\"]==\"down\":\n",
    "            pos.aim += move[\"amount\"]\n",
    "        elif move[\"direction\"]==\"up\":\n",
    "            pos.aim -= move[\"amount\"]\n",
    "            \n",
    "answer_2 = pos.multiply()\n",
    "answer_2\n"
   ]
  }
 ],
 "metadata": {
  "interpreter": {
   "hash": "d8c346c07515e26576ee8584eb88add6946456e578d3a189ac90c2a0320343e6"
  },
  "kernelspec": {
   "display_name": "Python 3.9.5 64-bit ('aoc2021': conda)",
   "language": "python",
   "name": "python3"
  },
  "language_info": {
   "codemirror_mode": {
    "name": "ipython",
    "version": 3
   },
   "file_extension": ".py",
   "mimetype": "text/x-python",
   "name": "python",
   "nbconvert_exporter": "python",
   "pygments_lexer": "ipython3",
   "version": "3.9.5"
  },
  "orig_nbformat": 4
 },
 "nbformat": 4,
 "nbformat_minor": 2
}
