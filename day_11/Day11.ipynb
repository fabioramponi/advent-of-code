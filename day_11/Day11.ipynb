{
 "cells": [
  {
   "cell_type": "code",
   "execution_count": 42,
   "metadata": {},
   "outputs": [
    {
     "name": "stdout",
     "output_type": "stream",
     "text": [
      "answer_1: 1603\n",
      "answer_2: 222\n"
     ]
    }
   ],
   "source": [
    "from dataclasses import dataclass\n",
    "import numpy as np\n",
    "import numpy.ma as ma\n",
    "from copy import copy\n",
    "\n",
    "with open(\"input.txt\", \"r\") as f:\n",
    "    lines = f.read().splitlines()\n",
    "    grid = np.matrix([list(map(int, list(l))) for l in lines])\n",
    "    \n",
    "def neighbors(m: np.matrix, idx):\n",
    "    col = idx[1]\n",
    "    row = idx[0]\n",
    "    cols = [col]\n",
    "    rows = [row]\n",
    "    nb = []\n",
    "    if (col>0):\n",
    "        cols.append(col-1)\n",
    "    if col<(m.shape[1]-1):\n",
    "        cols.append(col+1)\n",
    "    if (row>0):\n",
    "        rows.append(row-1)\n",
    "    if row<(m.shape[0]-1):\n",
    "        rows.append(row+1)\n",
    "    for r in rows:\n",
    "        for c in cols:\n",
    "            if not (r == row and c == col):\n",
    "                nb.append((r,c))\n",
    "    return nb\n",
    "\n",
    "def perform_step(m  :np.matrix):\n",
    "    m = m + 1\n",
    "    #print(f\"1 --> \\n{m}\")\n",
    "    n_flashes = count_flashes(m)\n",
    "    #print(f\"2 --> n_flashes: {n_flashes}, \\n{m}\")\n",
    "    m[m==10] = 0\n",
    "    #print(f\"3 --> \\n{m}\")\n",
    "    return n_flashes, m\n",
    "\n",
    "def count_flashes(m :np.matrix):\n",
    "    flashed = m == 10\n",
    "    already_flashed = np.zeros((10,10), dtype=bool)\n",
    "    for idx in np.argwhere(flashed):\n",
    "        already_flashed = flash(m, tuple(idx), already_flashed)\n",
    "    return already_flashed.sum()\n",
    "         \n",
    "\n",
    "def flash(m, idx, already_flashed):\n",
    "    already_flashed[idx] = True\n",
    "    for c in neighbors(m, idx):\n",
    "        if m[c] < 10:\n",
    "            m[c] = m[c] + 1\n",
    "            if m[c] == 10 and not already_flashed[c]: \n",
    "                flash(m, c, already_flashed)\n",
    "    return already_flashed\n",
    "            \n",
    "    \n",
    "\n",
    "e = copy(grid)\n",
    "answer_1 = 0\n",
    "for i in range(100):\n",
    "    n_flashes, e = perform_step(e)\n",
    "    answer_1 += n_flashes\n",
    "answer_1\n",
    "\n",
    "e = copy(grid)\n",
    "answer_2 = 0\n",
    "while not np.all(e==0):\n",
    "    answer_2+=1\n",
    "    n_flashes, e = perform_step(e)\n",
    "\n",
    "print(f\"answer_1: {answer_1}\")\n",
    "print(f\"answer_2: {answer_2}\")"
   ]
  },
  {
   "cell_type": "code",
   "execution_count": 4,
   "metadata": {},
   "outputs": [],
   "source": [
    "m = np.ones((10, 10))"
   ]
  },
  {
   "cell_type": "code",
   "execution_count": 14,
   "metadata": {},
   "outputs": [
    {
     "data": {
      "text/plain": [
       "[(9, 8), (8, 9), (8, 8)]"
      ]
     },
     "execution_count": 14,
     "metadata": {},
     "output_type": "execute_result"
    }
   ],
   "source": [
    "neighbors(m, (9,9))"
   ]
  },
  {
   "cell_type": "code",
   "execution_count": null,
   "metadata": {},
   "outputs": [],
   "source": []
  }
 ],
 "metadata": {
  "interpreter": {
   "hash": "d8c346c07515e26576ee8584eb88add6946456e578d3a189ac90c2a0320343e6"
  },
  "kernelspec": {
   "display_name": "Python 3.9.5 64-bit ('aoc2021': conda)",
   "language": "python",
   "name": "python3"
  },
  "language_info": {
   "codemirror_mode": {
    "name": "ipython",
    "version": 3
   },
   "file_extension": ".py",
   "mimetype": "text/x-python",
   "name": "python",
   "nbconvert_exporter": "python",
   "pygments_lexer": "ipython3",
   "version": "3.9.5"
  },
  "orig_nbformat": 4
 },
 "nbformat": 4,
 "nbformat_minor": 2
}
