{
 "cells": [
  {
   "cell_type": "code",
   "execution_count": 7,
   "metadata": {},
   "outputs": [
    {
     "name": "stdout",
     "output_type": "stream",
     "text": [
      "answer_1: 2010\n",
      "answer_2: 2437698971143\n"
     ]
    }
   ],
   "source": [
    "from collections import Counter\n",
    "with open(\"input.txt\", \"r\") as f:\n",
    "    lines = f.read().splitlines()\n",
    "    template = lines[0]\n",
    "    rules = {}\n",
    "    for l in lines[2:]:\n",
    "        pair, new_letter = l.split(\" -> \")\n",
    "        rules[pair] = new_letter\n",
    "        \n",
    "def walk(template, n_iter):\n",
    "    letters_counter = Counter()\n",
    "    pairs_counter = Counter()\n",
    "    for l in template:\n",
    "        letters_counter.update(l)\n",
    "    for i in range(len(template)-1):\n",
    "        pairs_counter.update([template[i:i+2]])\n",
    "    for i in range(n_iter):\n",
    "        pairs_counter = _make_step(pairs_counter, letters_counter)\n",
    "    return letters_counter\n",
    "        \n",
    "def _make_step(pairs_counter, letters_counter):\n",
    "    new_pairs = Counter()\n",
    "    for p, count in pairs_counter.items():\n",
    "        l = rules[p]\n",
    "        letters_counter.update({l: count})\n",
    "        new_pairs.update({p[0]+l: count})\n",
    "        new_pairs.update({l+p[1]: count})\n",
    "    return new_pairs\n",
    "\n",
    "c = walk(template, 10)\n",
    "answer_1=c.most_common()[0][1]-c.most_common()[-1][1]\n",
    "c = walk(template, 40)\n",
    "answer_2=c.most_common()[0][1]-c.most_common()[-1][1]\n",
    "\n",
    "print(f\"answer_1: {answer_1}\")\n",
    "print(f\"answer_2: {answer_2}\")\n"
   ]
  }
 ],
 "metadata": {
  "interpreter": {
   "hash": "d8c346c07515e26576ee8584eb88add6946456e578d3a189ac90c2a0320343e6"
  },
  "kernelspec": {
   "display_name": "Python 3.9.5 64-bit ('aoc2021': conda)",
   "language": "python",
   "name": "python3"
  },
  "language_info": {
   "codemirror_mode": {
    "name": "ipython",
    "version": 3
   },
   "file_extension": ".py",
   "mimetype": "text/x-python",
   "name": "python",
   "nbconvert_exporter": "python",
   "pygments_lexer": "ipython3",
   "version": "3.9.5"
  },
  "orig_nbformat": 4
 },
 "nbformat": 4,
 "nbformat_minor": 2
}
