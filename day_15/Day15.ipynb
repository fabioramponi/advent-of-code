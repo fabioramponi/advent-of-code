{
 "cells": [
  {
   "cell_type": "code",
   "execution_count": 62,
   "metadata": {},
   "outputs": [
    {
     "name": "stdout",
     "output_type": "stream",
     "text": [
      "answer_1: 581.0\n",
      "answer_2: 2916.0\n"
     ]
    }
   ],
   "source": [
    "import numpy as np\n",
    "from queue import PriorityQueue\n",
    "\n",
    "with open(\"input.txt\", \"r\") as f:\n",
    "    grid = np.matrix(list(map(lambda s: list(map(int, list(s))), f.read().splitlines())))\n",
    "\n",
    "class Graph:\n",
    "    def __init__(self, grid):\n",
    "        self.grid = grid\n",
    "        self.visited = np.zeros(shape=grid.shape, dtype=bool)\n",
    "        self.shortest_path = np.ones(shape=grid.shape, dtype=float)*np.inf\n",
    "        self.shortest_path[0,0] = 0\n",
    "        \n",
    "    def edges(self, idx):\n",
    "        res = []\n",
    "        if (idx[0] < self.grid.shape[0]-1):\n",
    "            res.append((idx[0]+1, idx[1]))\n",
    "        if (idx[1] < self.grid.shape[1]-1):\n",
    "            res.append((idx[0], idx[1]+1))\n",
    "        if (idx[0] > 0):\n",
    "            res.append((idx[0]-1, idx[1]))\n",
    "        if (idx[1] > 0):\n",
    "            res.append((idx[0], idx[1]-1))\n",
    "            \n",
    "        return res \n",
    "        \n",
    "    def calculate_weight(self, from_idx, to_idx):\n",
    "        this_weight = self.shortest_path[from_idx] + self.grid[to_idx]\n",
    "        if (this_weight < self.shortest_path[to_idx]):\n",
    "            self.shortest_path[to_idx] = this_weight\n",
    "        return self.shortest_path[to_idx]\n",
    "\n",
    "    def visit(self, starting_idx):\n",
    "        pq = PriorityQueue()\n",
    "        pq.put((0, starting_idx))\n",
    "        while not pq.empty():\n",
    "            idx = pq.get()[1]\n",
    "            if not self.visited[idx]:\n",
    "                self.visited[idx] = True\n",
    "                possible_steps=self.edges(idx)\n",
    "                if not possible_steps:\n",
    "                    return\n",
    "                for s in possible_steps:\n",
    "                    pq.put((self.calculate_weight(idx, s), s))\n",
    "    \n",
    "g = Graph(grid)\n",
    "g.visit((0,0)) \n",
    "answer_1 = g.shortest_path[-1,-1]   \n",
    "print(f\"answer_1: {answer_1}\")  \n",
    "\n",
    "full_grid_lists = [grid]\n",
    "for i in range(4):\n",
    "    new_grid = full_grid_lists[-1]+1\n",
    "    full_grid_lists.append(np.where(new_grid==10, 1, new_grid))\n",
    "\n",
    "full_grid_lists = [full_grid_lists]\n",
    "for i in range(4):\n",
    "    new_row = []\n",
    "    for j in range(5):\n",
    "        new_grid = full_grid_lists[-1][j]+1\n",
    "        new_row.append(np.where(new_grid==10, 1, new_grid))\n",
    "    full_grid_lists.append(new_row)\n",
    "\n",
    "fg = []\n",
    "for row in full_grid_lists:\n",
    "    fg.append(np.hstack(row))\n",
    "\n",
    "full_grid = np.vstack(fg)\n",
    "\n",
    "g2 = Graph(full_grid)\n",
    "g2.visit((0,0))\n",
    "answer_2 = g2.shortest_path[-1,-1]\n",
    "\n",
    "print(f\"answer_2: {answer_2}\")\n",
    "\n",
    "        "
   ]
  }
 ],
 "metadata": {
  "interpreter": {
   "hash": "d8c346c07515e26576ee8584eb88add6946456e578d3a189ac90c2a0320343e6"
  },
  "kernelspec": {
   "display_name": "Python 3.9.5 64-bit ('aoc2021': conda)",
   "language": "python",
   "name": "python3"
  },
  "language_info": {
   "codemirror_mode": {
    "name": "ipython",
    "version": 3
   },
   "file_extension": ".py",
   "mimetype": "text/x-python",
   "name": "python",
   "nbconvert_exporter": "python",
   "pygments_lexer": "ipython3",
   "version": "3.9.5"
  },
  "orig_nbformat": 4
 },
 "nbformat": 4,
 "nbformat_minor": 2
}
