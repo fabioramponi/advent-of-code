{
 "cells": [
  {
   "cell_type": "code",
   "execution_count": 1,
   "metadata": {},
   "outputs": [],
   "source": [
    "with open(\"input.txt\", \"r\") as f:\n",
    "    crab_positions = list(map(int, f.readline().split(\",\")))"
   ]
  },
  {
   "cell_type": "code",
   "execution_count": 10,
   "metadata": {},
   "outputs": [
    {
     "name": "stdout",
     "output_type": "stream",
     "text": [
      "answer_1: 328318\n",
      "answer_2: 89791146\n"
     ]
    }
   ],
   "source": [
    "def fuel_constant_cost(x, positions):\n",
    "    cost = 0\n",
    "    for p in positions:\n",
    "        cost += abs(p-x)\n",
    "    return cost\n",
    "\n",
    "\n",
    "def fuel_progressive_cost(x, positions):\n",
    "    cost = 0\n",
    "    for p in positions:\n",
    "        cost += sum(range(1, abs(p-x)+1))\n",
    "    return cost    \n",
    "\n",
    "const_costs = []\n",
    "progressive_costs = []\n",
    "for x in range(min(crab_positions), max(crab_positions)+1):\n",
    "    const_costs.append(fuel_constant_cost(x, crab_positions))\n",
    "    progressive_costs.append(fuel_progressive_cost(x, crab_positions))\n",
    "    \n",
    "answer_1 = min(const_costs)\n",
    "answer_2 = min(progressive_costs)\n",
    "\n",
    "print(f\"answer_1: {answer_1}\")\n",
    "print(f\"answer_2: {answer_2}\")"
   ]
  }
 ],
 "metadata": {
  "interpreter": {
   "hash": "d8c346c07515e26576ee8584eb88add6946456e578d3a189ac90c2a0320343e6"
  },
  "kernelspec": {
   "display_name": "Python 3.9.5 64-bit ('aoc2021': conda)",
   "language": "python",
   "name": "python3"
  },
  "language_info": {
   "codemirror_mode": {
    "name": "ipython",
    "version": 3
   },
   "file_extension": ".py",
   "mimetype": "text/x-python",
   "name": "python",
   "nbconvert_exporter": "python",
   "pygments_lexer": "ipython3",
   "version": "3.9.5"
  },
  "orig_nbformat": 4
 },
 "nbformat": 4,
 "nbformat_minor": 2
}
