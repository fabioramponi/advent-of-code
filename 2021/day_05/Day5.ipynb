{
 "cells": [
  {
   "cell_type": "code",
   "execution_count": 64,
   "metadata": {},
   "outputs": [
    {
     "name": "stdout",
     "output_type": "stream",
     "text": [
      "answer_1: 7085\n",
      "answer_2: 20271\n"
     ]
    }
   ],
   "source": [
    "import re\n",
    "import pandas as pd\n",
    "from dataclasses import dataclass\n",
    "from collections import defaultdict\n",
    "\n",
    "pattern = \"(\\d+),(\\d+) -> (\\d+),(\\d+)\"\n",
    "with open(\"input.txt\", \"r\") as f:\n",
    "    v = list(map(lambda l: list(map(int, re.match(pattern, l).groups())), f.readlines()))\n",
    "    lines = pd.DataFrame(v, columns=[\"x1\", \"y1\", \"x2\", \"y2\"])\n",
    "\n",
    "@dataclass\n",
    "class Point:\n",
    "    x: int\n",
    "    y: int\n",
    "    \n",
    "    def __hash__(self):\n",
    "        return hash(repr(self))\n",
    "\n",
    "def count_overlaps(lines):\n",
    "    covered_points = defaultdict(lambda : 0)\n",
    "    for idx,r in lines.iterrows():\n",
    "        if (r[\"x1\"]==r[\"x2\"]):\n",
    "            x = r[\"x1\"]\n",
    "            y2 = max(r[\"y1\"], r[\"y2\"])\n",
    "            y1 = min(r[\"y1\"], r[\"y2\"])\n",
    "            for y in range(y1, y2+1):\n",
    "                covered_points[Point(x,y)] += 1\n",
    "        elif r[\"y1\"]==r[\"y2\"]:\n",
    "            y = r[\"y1\"]\n",
    "            x1 = min(r[\"x1\"], r[\"x2\"])\n",
    "            x2 = max(r[\"x1\"], r[\"x2\"])\n",
    "            for x in range(x1, x2+1):\n",
    "                covered_points[Point(x,y)] += 1\n",
    "        else:\n",
    "            if r[\"x2\"] > r[\"x1\"]:\n",
    "                x_step = 1\n",
    "                n_steps = r[\"x2\"] - r[\"x1\"] + 1\n",
    "            elif r[\"x2\"] == r[\"x1\"]:\n",
    "                x_step = 0\n",
    "                n_steps = abs(r[\"y2\"] - r[\"y1\"]) + 1\n",
    "            else:\n",
    "                x_step = -1\n",
    "                n_steps = r[\"x1\"] - r[\"x2\"] + 1\n",
    "            if r[\"y2\"] > r[\"y1\"]:\n",
    "                y_step = 1\n",
    "            elif r[\"y2\"] == r[\"y1\"]:\n",
    "                y_step = 0\n",
    "            else:\n",
    "                y_step = -1         \n",
    "            for i in range(n_steps):\n",
    "                covered_points[Point(r[\"x1\"]+ i * x_step, r[\"y1\"]+ i*y_step)] += 1\n",
    "    return len(list(filter(lambda x: x[1]>1, covered_points.items())))\n",
    "\n",
    "hor_or_vert_lines = lines[(lines[\"x1\"]==lines[\"x2\"]) | (lines[\"y1\"]==lines[\"y2\"])]\n",
    "answer_1 = count_overlaps(hor_or_vert_lines)\n",
    "print(f\"answer_1: {answer_1}\")\n",
    "answer_2 = count_overlaps(lines)\n",
    "print(f\"answer_2: {answer_2}\")\n",
    "\n"
   ]
  }
 ],
 "metadata": {
  "interpreter": {
   "hash": "d8c346c07515e26576ee8584eb88add6946456e578d3a189ac90c2a0320343e6"
  },
  "kernelspec": {
   "display_name": "Python 3.9.5 64-bit ('aoc2021': conda)",
   "language": "python",
   "name": "python3"
  },
  "language_info": {
   "codemirror_mode": {
    "name": "ipython",
    "version": 3
   },
   "file_extension": ".py",
   "mimetype": "text/x-python",
   "name": "python",
   "nbconvert_exporter": "python",
   "pygments_lexer": "ipython3",
   "version": "3.9.5"
  },
  "orig_nbformat": 4
 },
 "nbformat": 4,
 "nbformat_minor": 2
}
