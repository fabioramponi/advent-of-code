{
 "cells": [
  {
   "cell_type": "code",
   "execution_count": 74,
   "metadata": {},
   "outputs": [
    {
     "data": {
      "text/plain": [
       "2640986"
      ]
     },
     "execution_count": 74,
     "metadata": {},
     "output_type": "execute_result"
    }
   ],
   "source": [
    "import pandas as pd\n",
    "\n",
    "def most_frequent_bit(s: pd.Series, default :str = \"1\") -> str:\n",
    "    ones = s[s==\"1\"].count()\n",
    "    zeros = s.count() - ones\n",
    "    if ones > zeros:\n",
    "        return \"1\"\n",
    "    if zeros > ones:\n",
    "        return \"0\"\n",
    "    if zeros == ones:\n",
    "        return default\n",
    "    \n",
    "def flip(b: str) -> str:\n",
    "    return \"0\" if b==\"1\" else \"1\" \n",
    "    \n",
    "\n",
    "numbers = pd.read_csv(\"input.txt\",dtype={\"number\": \"string\"}, names=[\"number\"])\n",
    "numbers = numbers[\"number\"].apply(lambda x: pd.Series(list(x)))\n",
    "df_gamma = numbers.apply(most_frequent_bit)\n",
    "df_epsilon = df_gamma.transform(lambda x: flip(x))\n",
    "gamma = int(\"\".join(df_gamma), 2)\n",
    "epsilon = int(\"\".join(df_epsilon), 2)\n",
    "answer_1 = gamma * epsilon\n",
    "answer_1"
   ]
  },
  {
   "cell_type": "code",
   "execution_count": 94,
   "metadata": {},
   "outputs": [
    {
     "data": {
      "text/plain": [
       "6822109"
      ]
     },
     "execution_count": 94,
     "metadata": {},
     "output_type": "execute_result"
    }
   ],
   "source": [
    "oxygen_nums = numbers\n",
    "co2_nums = numbers\n",
    "for i in range(numbers.columns.size):\n",
    "    if (len(oxygen_nums.index) > 1):\n",
    "        bit = most_frequent_bit(oxygen_nums[i])\n",
    "        oxygen_nums = oxygen_nums[oxygen_nums[i]==bit]\n",
    "    if (len(co2_nums.index) > 1):\n",
    "        bit = most_frequent_bit(co2_nums[i])\n",
    "        co2_nums = co2_nums[co2_nums[i]==flip(bit)]\n",
    "oxygen = int(\"\".join(oxygen_nums.iloc[0]), 2)\n",
    "co2 = int(\"\".join(co2_nums.iloc[0]), 2)\n",
    "answer_2 = oxygen * co2  \n",
    "answer_2      "
   ]
  },
  {
   "cell_type": "code",
   "execution_count": null,
   "metadata": {},
   "outputs": [],
   "source": []
  }
 ],
 "metadata": {
  "interpreter": {
   "hash": "d8c346c07515e26576ee8584eb88add6946456e578d3a189ac90c2a0320343e6"
  },
  "kernelspec": {
   "display_name": "Python 3.9.5 64-bit ('aoc2021': conda)",
   "language": "python",
   "name": "python3"
  },
  "language_info": {
   "codemirror_mode": {
    "name": "ipython",
    "version": 3
   },
   "file_extension": ".py",
   "mimetype": "text/x-python",
   "name": "python",
   "nbconvert_exporter": "python",
   "pygments_lexer": "ipython3",
   "version": "3.9.5"
  },
  "orig_nbformat": 4
 },
 "nbformat": 4,
 "nbformat_minor": 2
}
