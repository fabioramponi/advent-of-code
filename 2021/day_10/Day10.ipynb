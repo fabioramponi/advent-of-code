{
 "cells": [
  {
   "cell_type": "code",
   "execution_count": 17,
   "metadata": {},
   "outputs": [
    {
     "name": "stdout",
     "output_type": "stream",
     "text": [
      "answer_1: 339411\n",
      "answer_2: 2289754624\n"
     ]
    }
   ],
   "source": [
    "import math\n",
    "with open(\"input.txt\", \"r\") as f:\n",
    "    lines = f.readlines()\n",
    "    \n",
    "matching_parentheses = {']': '[' , '}': '{', ')': '(', '>': '<'}\n",
    "\n",
    "def parse_line(line: str):\n",
    "    stack = []\n",
    "    for c in line:\n",
    "        if c in matching_parentheses.values():\n",
    "            stack.append(c)\n",
    "        elif c in matching_parentheses.keys():\n",
    "            if stack[-1] == matching_parentheses[c]:\n",
    "                stack.pop()\n",
    "            else:\n",
    "                return (\"corrupted\", c)\n",
    "    if len(stack) > 0:\n",
    "        return (\"incomplete\", stack)\n",
    "            \n",
    "\n",
    "correction_score = {')': 3, ']': 57, '}': 1197, '>': 25137}\n",
    "completion_score = {'(': 1, '[': 2, '{': 3, '<': 4}\n",
    "\n",
    "answer_1 = 0\n",
    "completion_scores = []\n",
    "for line in lines: \n",
    "    res = parse_line(line)\n",
    "    if res is not None:\n",
    "        if (res[0]=='corrupted'):\n",
    "            answer_1 += correction_score[res[1]]\n",
    "        if (res[0]== 'incomplete'):\n",
    "            this_score = 0\n",
    "            for b in res[1][::-1]:\n",
    "                this_score = 5 * this_score + completion_score[b]\n",
    "            completion_scores.append(this_score)\n",
    "           \n",
    "completion_scores.sort()     \n",
    "answer_2 = completion_scores[math.floor(len(completion_scores) / 2)]\n",
    "\n",
    "print(f\"answer_1: {answer_1}\")\n",
    "print(f\"answer_2: {answer_2}\")        \n",
    "    "
   ]
  }
 ],
 "metadata": {
  "interpreter": {
   "hash": "d8c346c07515e26576ee8584eb88add6946456e578d3a189ac90c2a0320343e6"
  },
  "kernelspec": {
   "display_name": "Python 3.9.5 64-bit ('aoc2021': conda)",
   "language": "python",
   "name": "python3"
  },
  "language_info": {
   "codemirror_mode": {
    "name": "ipython",
    "version": 3
   },
   "file_extension": ".py",
   "mimetype": "text/x-python",
   "name": "python",
   "nbconvert_exporter": "python",
   "pygments_lexer": "ipython3",
   "version": "3.9.5"
  },
  "orig_nbformat": 4
 },
 "nbformat": 4,
 "nbformat_minor": 2
}
