{
 "cells": [
  {
   "cell_type": "code",
   "execution_count": 99,
   "metadata": {},
   "outputs": [
    {
     "name": "stdout",
     "output_type": "stream",
     "text": [
      "answer_1: 5229\n",
      "answer_2: 17009\n"
     ]
    }
   ],
   "source": [
    "import numpy as np\n",
    "\n",
    "with open(\"input.txt\", \"r\") as f:\n",
    "    lines = f.read().splitlines()\n",
    "    algorithm = list(map(lambda x: 0 if x=='.' else 1, lines[0]))\n",
    "    input_image = np.array([list(map(lambda x: 0 if x=='.' else 1, l)) for l in lines[2:]])\n",
    "    \n",
    "def contour_value(algorithm, iter):\n",
    "    if iter==0:\n",
    "        return 0\n",
    "    return algorithm[-1] if iter % 2 == 0 else algorithm[0]\n",
    "\n",
    "def apply_algo(image, algorithm, iter):\n",
    "    border_value = contour_value(algorithm, iter) \n",
    "    border = 2\n",
    "    input = np.concatenate((border_value * np.ones((image.shape[0],border), dtype=int), image), axis=1)\n",
    "    input = np.concatenate((input, (border_value * np.ones((input.shape[0],border), dtype=int))), axis=1)\n",
    "    input = np.concatenate((border_value * np.ones((border,input.shape[1]), dtype=int), input), axis=0)\n",
    "    input = np.concatenate((input, (border_value * np.ones((border,input.shape[1]), dtype=int))), axis=0)\n",
    "    output = contour_value(algorithm,iter+1) * np.ones(input.shape, dtype=int)\n",
    "    for r in range(1, input.shape[0]-1):\n",
    "        for c in range(1, input.shape[1]-1):\n",
    "            bin_num = int(\"\".join(map(str, input[r-1:r+2, c-1:c+2].flatten().tolist())), base=2)\n",
    "            output[r,c] = algorithm[bin_num]    \n",
    "    return output\n",
    "    \n",
    "out = input_image\n",
    "for iter in range(50):\n",
    "    out = apply_algo(out, algorithm, iter)\n",
    "    if (iter==1):\n",
    "        print(f\"answer_1: {out.sum()}\")\n",
    "\n",
    "print(f\"answer_2: {out.sum()}\")"
   ]
  }
 ],
 "metadata": {
  "interpreter": {
   "hash": "d8c346c07515e26576ee8584eb88add6946456e578d3a189ac90c2a0320343e6"
  },
  "kernelspec": {
   "display_name": "Python 3.9.5 64-bit ('aoc2021': conda)",
   "language": "python",
   "name": "python3"
  },
  "language_info": {
   "codemirror_mode": {
    "name": "ipython",
    "version": 3
   },
   "file_extension": ".py",
   "mimetype": "text/x-python",
   "name": "python",
   "nbconvert_exporter": "python",
   "pygments_lexer": "ipython3",
   "version": "3.9.5"
  },
  "orig_nbformat": 4
 },
 "nbformat": 4,
 "nbformat_minor": 2
}
