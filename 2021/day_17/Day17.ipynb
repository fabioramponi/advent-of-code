{
 "cells": [
  {
   "cell_type": "code",
   "execution_count": 1,
   "metadata": {},
   "outputs": [
    {
     "name": "stdout",
     "output_type": "stream",
     "text": [
      "answer_1: 5995\n",
      "answer_2: 3202\n"
     ]
    }
   ],
   "source": [
    "import re\n",
    "import numpy as np\n",
    "with open(\"input.txt\", \"r\") as f:\n",
    "    x1, x2, y1, y2 = tuple(map(int, re.match(\".*x=(-?\\d+)..(-?\\d+), y=(-?\\d+)..(-?\\d+)\", f.read()).groups()))\n",
    "\n",
    "def find_x_range(x1, x2):\n",
    "    good_xs = []\n",
    "    for x in range(x2, 0, -1):\n",
    "        reached, xs = check_x_in_range(x, x1, x2)\n",
    "        if not reached:\n",
    "            break\n",
    "        for s in xs:\n",
    "            good_xs.append((x, s))\n",
    "    return good_xs\n",
    "\n",
    "def find_good_starts(good_xs, y1, y2):\n",
    "    max_negative_y_speed = y1\n",
    "    x_steps = set([x[1][0] for x in good_xs])\n",
    "    good_starts = set()\n",
    "    all_steps_beyond_are_valid = min(map(lambda x: x[1][0], filter(lambda x: x[1][1]==True, good_xs)))\n",
    "    for y_speed in range(max_negative_y_speed, 1):\n",
    "        y = 0\n",
    "        step = 0\n",
    "        speed = y_speed\n",
    "        \n",
    "        while y > y1:\n",
    "            y += speed\n",
    "            if y>=y1 and y<=y2 and (step>=all_steps_beyond_are_valid or step in x_steps):\n",
    "                for xs in filter(lambda x: x[1][0]==step or (x[1][1] and step>=x[1][0]), good_xs):\n",
    "                    good_starts.add((xs[0], y_speed))\n",
    "                if y_speed<0:\n",
    "                    steps_with_opposite_speed = step + 2 * (abs(y_speed)-1) + 1\n",
    "                    for xs in filter(lambda x: x[1][0]==steps_with_opposite_speed or (x[1][1] and steps_with_opposite_speed>=x[1][0]), good_xs):\n",
    "                        good_starts.add((xs[0], abs(y_speed)-1))\n",
    "            speed -= 1\n",
    "            step += 1\n",
    "    return good_starts\n",
    "    \n",
    "        \n",
    "           \n",
    "        \n",
    "def find_max_height(y1, y2):\n",
    "    speed = -y1-1\n",
    "    y=0\n",
    "    while speed>=0:\n",
    "        y += speed\n",
    "        speed -= 1\n",
    "    return y \n",
    "        \n",
    "     \n",
    "        \n",
    "def check_x_in_range(initial_x, x1, x2):\n",
    "    step = 0\n",
    "    exit = False\n",
    "    x = 0\n",
    "    speed = initial_x\n",
    "    steps = set()\n",
    "    reached = True\n",
    "    while not exit:\n",
    "        x += speed\n",
    "        if (x1<=x and x2>=x):\n",
    "            steps.add((step, speed==0))\n",
    "            if (speed == 0):\n",
    "                exit = True\n",
    "        if x>x2:\n",
    "            exit = True                \n",
    "        if x<x1 and speed==0:\n",
    "            exit = True\n",
    "            reached = False\n",
    "        speed = max(0, speed-1)\n",
    "        step += 1\n",
    "    return reached, steps\n",
    "        \n",
    "\n",
    "answer_1 = find_max_height(y1, y2)\n",
    "\n",
    "print(f\"answer_1: {answer_1}\")\n",
    "good_xs = find_x_range(x1, x2)\n",
    "good_starts = find_good_starts(good_xs, y1, y2)\n",
    "answer_2 = len(good_starts)\n",
    "print(f\"answer_2: {answer_2}\")"
   ]
  }
 ],
 "metadata": {
  "interpreter": {
   "hash": "d8c346c07515e26576ee8584eb88add6946456e578d3a189ac90c2a0320343e6"
  },
  "kernelspec": {
   "display_name": "Python 3.9.5 64-bit ('aoc2021': conda)",
   "language": "python",
   "name": "python3"
  },
  "language_info": {
   "name": "python",
   "version": "3.9.5"
  },
  "orig_nbformat": 4
 },
 "nbformat": 4,
 "nbformat_minor": 2
}
