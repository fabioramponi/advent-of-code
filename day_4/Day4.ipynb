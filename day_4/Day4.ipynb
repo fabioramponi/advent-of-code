{
 "cells": [
  {
   "cell_type": "code",
   "execution_count": 4,
   "metadata": {},
   "outputs": [
    {
     "name": "stdout",
     "output_type": "stream",
     "text": [
      "answer_1: 65325\n",
      "answer_2: 4624\n"
     ]
    }
   ],
   "source": [
    "import numpy as np\n",
    "import pandas as pd\n",
    "import re\n",
    "\n",
    "def read_table(lines):\n",
    "    numbers = []\n",
    "    for l in lines:\n",
    "        numbers.append(list(map(lambda x: int(x), l.split())))\n",
    "    return np.matrix(numbers)\n",
    "\n",
    "def is_bingo(t : np.matrix, numbers):\n",
    "    mask = np.isin(t, numbers)\n",
    "    for i in range(5):\n",
    "        if np.all(mask[i,:]):\n",
    "            return (\"r\", i)\n",
    "        if np.all(mask[:,i]):\n",
    "            return (\"c\", i)\n",
    "    return None\n",
    "        \n",
    "tables = []\n",
    "\n",
    "with open(\"input.txt\", \"r\") as f:\n",
    "    lines = f.readlines();\n",
    "    random_numbers = list(map(lambda x: int(x), lines[0][:-1].split(\",\")))\n",
    "    i = 2\n",
    "    while len(lines) > i:\n",
    "        tables.append(read_table(lines[i:i+5]))\n",
    "        i += 6\n",
    "\n",
    "already_won = []\n",
    "for s in range(len(random_numbers)-1):\n",
    "    already_extracted = random_numbers[:s+1]\n",
    "    for idx, t in enumerate(tables):\n",
    "        if idx not in already_won:\n",
    "            r = is_bingo(t, already_extracted)\n",
    "            if r is not None:\n",
    "                marked = np.isin(t, already_extracted)\n",
    "                sum = t[~marked].sum()\n",
    "                if len(already_won) == 0:\n",
    "                    answer_1 = sum * already_extracted[-1]\n",
    "                already_won.append(idx)    \n",
    "                answer_2 = sum * already_extracted[-1]\n",
    "print(f\"answer_1: {answer_1}\")\n",
    "print(f\"answer_2: {answer_2}\")"
   ]
  }
 ],
 "metadata": {
  "interpreter": {
   "hash": "d8c346c07515e26576ee8584eb88add6946456e578d3a189ac90c2a0320343e6"
  },
  "kernelspec": {
   "display_name": "Python 3.9.5 64-bit ('aoc2021': conda)",
   "language": "python",
   "name": "python3"
  },
  "language_info": {
   "codemirror_mode": {
    "name": "ipython",
    "version": 3
   },
   "file_extension": ".py",
   "mimetype": "text/x-python",
   "name": "python",
   "nbconvert_exporter": "python",
   "pygments_lexer": "ipython3",
   "version": "3.9.5"
  },
  "orig_nbformat": 4
 },
 "nbformat": 4,
 "nbformat_minor": 2
}
