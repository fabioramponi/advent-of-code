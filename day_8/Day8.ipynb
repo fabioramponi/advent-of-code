{
 "cells": [
  {
   "cell_type": "code",
   "execution_count": 68,
   "metadata": {},
   "outputs": [
    {
     "name": "stdout",
     "output_type": "stream",
     "text": [
      "answer_1: 288\n",
      "answer_2: 940724\n"
     ]
    }
   ],
   "source": [
    "import re \n",
    "digits = []\n",
    "outputs = []\n",
    "with open(\"input.txt\", \"r\") as f:\n",
    "    for l in f.readlines():\n",
    "        all_sigs = re.findall(\"\\w+\", l)\n",
    "        digits.append(list(map(set, all_sigs[:10])))\n",
    "        outputs.append(list(map(set, all_sigs[-4:])))\n",
    "\n",
    "map_digits = {0: \"0\", 1:\"1\", 2:\"2\", 3:\"3\", 4:\"4\", 5:\"5\", 6:\"6\", 7:\"7\", 8:\"8\", 9:\"9\"}\n",
    "    \n",
    "def count_simple_digits(signals):\n",
    "    count = 0\n",
    "    for s in signals:\n",
    "        count += len(list(filter(lambda s : len(s) in (2, 3, 4, 7), s)))\n",
    "    return count  \n",
    "\n",
    "def decode_digits(digits):\n",
    "    one = list(filter(lambda d: len(d)==2, digits))[0]\n",
    "    six = list(filter(lambda d: len(d)==6 and not one.issubset(d), digits))[0]\n",
    "    four = list(filter(lambda d: len(d)==4, digits))[0]\n",
    "    seven = list(filter(lambda d: len(d)==3, digits))[0]\n",
    "    eight = list(filter(lambda d: len(d)==7, digits))[0]\n",
    "    three = list(filter(lambda d: len(d)==5 and one.issubset(d), digits))[0]\n",
    "    zero = list(filter(lambda d: len(d)==6 and not four.issubset(d) and not d==six, digits))[0]\n",
    "    nine = list(filter(lambda d: len(d)==6 and d not in (six, zero), digits))[0]\n",
    "    two = list(filter(lambda d: len(d)==5 and not d.issubset(nine), digits))[0]\n",
    "    five = list(filter(lambda d: d not in (one, two, three, four, six, seven, eight, nine, zero), digits))[0]\n",
    "    return [zero, one, two, three, four, five, six, seven, eight, nine]\n",
    "\n",
    "answer_2 = 0\n",
    "for i in range(len(digits)):\n",
    "    d = decode_digits(digits[i])\n",
    "    output_s = \"\" \n",
    "    for o in outputs[i]:\n",
    "        output_s += map_digits[d.index(o)]\n",
    "    output_n = int(output_s)\n",
    "    answer_2 += output_n\n",
    "    \n",
    "answer_1 = count_simple_digits(outputs)\n",
    "print(f\"answer_1: {answer_1}\")\n",
    "print(f\"answer_2: {answer_2}\")"
   ]
  }
 ],
 "metadata": {
  "interpreter": {
   "hash": "d8c346c07515e26576ee8584eb88add6946456e578d3a189ac90c2a0320343e6"
  },
  "kernelspec": {
   "display_name": "Python 3.9.5 64-bit ('aoc2021': conda)",
   "language": "python",
   "name": "python3"
  },
  "language_info": {
   "codemirror_mode": {
    "name": "ipython",
    "version": 3
   },
   "file_extension": ".py",
   "mimetype": "text/x-python",
   "name": "python",
   "nbconvert_exporter": "python",
   "pygments_lexer": "ipython3",
   "version": "3.9.5"
  },
  "orig_nbformat": 4
 },
 "nbformat": 4,
 "nbformat_minor": 2
}
