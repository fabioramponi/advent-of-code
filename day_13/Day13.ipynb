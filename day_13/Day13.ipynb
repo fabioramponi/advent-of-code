{
 "cells": [
  {
   "cell_type": "code",
   "execution_count": 35,
   "metadata": {},
   "outputs": [
    {
     "name": "stdout",
     "output_type": "stream",
     "text": [
      "answer_1: 770\n",
      "answer_2 =\n",
      " ['####.###..#..#.####.#....###..###..###.'\n",
      " '#....#..#.#..#.#....#....#..#.#..#.#..#'\n",
      " '###..#..#.#..#.###..#....#..#.###..#..#'\n",
      " '#....###..#..#.#....#....###..#..#.###.'\n",
      " '#....#....#..#.#....#....#....#..#.#.#.'\n",
      " '####.#.....##..####.####.#....###..#..#']\n"
     ]
    }
   ],
   "source": [
    "import re \n",
    "import numpy as np\n",
    "\n",
    "with open(\"input.txt\", \"r\") as f:\n",
    "    lines = f.read().splitlines()\n",
    "    fold_inst = False\n",
    "    dots = []\n",
    "    fold_instructions = []\n",
    "    for l in lines:\n",
    "        if l=='':\n",
    "            fold_inst = True\n",
    "        elif fold_inst == False:\n",
    "            dots.append(tuple(map(int, l.split(\",\"))))\n",
    "        else:\n",
    "            direction, coord = re.match(\".*([xy])=(\\d+)\", l).groups()\n",
    "            fold_instructions.append((direction, int(coord)))\n",
    "            \n",
    "def fold(dots, direction, coord):\n",
    "    outp = set()\n",
    "    for d in dots:\n",
    "        if direction == 'y' and d[1]>coord: \n",
    "            outp.add((d[0], 2 * coord - d[1])) \n",
    "        elif direction == 'x' and d[0]>coord:\n",
    "            outp.add((2 * coord - d[0], d[1]))\n",
    "        else:\n",
    "            outp.add(d)\n",
    "    return outp\n",
    "\n",
    "def repr(dots):\n",
    "    xs = map(lambda x: x[0], dots)\n",
    "    ys = map(lambda x: x[1], dots)\n",
    "    matrix_size = (max(xs)+1, max(ys)+1)\n",
    "    res = np.zeros(matrix_size, dtype=bool)\n",
    "    for dot in dots:\n",
    "        res[dot] = True\n",
    "    mrepr = np.where(res, '#','.')\n",
    "    return np.apply_along_axis(\"\".join, axis=0, arr=mrepr)\n",
    "    \n",
    "    \n",
    "    \n",
    "\n",
    "res = fold(dots, *fold_instructions[0])   \n",
    "print(f\"answer_1: {len(res)}\")\n",
    "\n",
    "for f in fold_instructions[1:]:\n",
    "    res = fold(res, *f)\n",
    "\n",
    "answer_2 = repr(res)\n",
    "print(f\"answer_2 =\\n {answer_2}\")\n",
    "        "
   ]
  }
 ],
 "metadata": {
  "interpreter": {
   "hash": "d8c346c07515e26576ee8584eb88add6946456e578d3a189ac90c2a0320343e6"
  },
  "kernelspec": {
   "display_name": "Python 3.9.5 64-bit ('aoc2021': conda)",
   "language": "python",
   "name": "python3"
  },
  "language_info": {
   "codemirror_mode": {
    "name": "ipython",
    "version": 3
   },
   "file_extension": ".py",
   "mimetype": "text/x-python",
   "name": "python",
   "nbconvert_exporter": "python",
   "pygments_lexer": "ipython3",
   "version": "3.9.5"
  },
  "orig_nbformat": 4
 },
 "nbformat": 4,
 "nbformat_minor": 2
}
