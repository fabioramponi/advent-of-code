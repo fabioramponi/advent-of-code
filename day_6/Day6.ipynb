{
 "cells": [
  {
   "cell_type": "code",
   "execution_count": 13,
   "metadata": {},
   "outputs": [
    {
     "name": "stdout",
     "output_type": "stream",
     "text": [
      "answer_1: 372984\n",
      "answer_2: 1681503251694\n"
     ]
    }
   ],
   "source": [
    "from dataclasses import dataclass\n",
    "from collections import defaultdict\n",
    "from copy import copy\n",
    "\n",
    "@dataclass\n",
    "class LanternFish():\n",
    "    timer: int \n",
    "    n_fishes: int = 0\n",
    "    \n",
    "    def reset(self):\n",
    "        self.timer = 6\n",
    "\n",
    "initial_fishes = defaultdict(lambda : 0)\n",
    "    \n",
    "with open(\"input.txt\", \"r\") as f:\n",
    "    fishes = list(map(lambda t: LanternFish(int(t)), f.readline().split(\",\")))\n",
    "    for fish in fishes:\n",
    "        initial_fishes[fish.timer] += 1\n",
    "    \n",
    "    \n",
    "def count_lanternfishes_after(fishes, days):\n",
    "    fishes_with_timer = copy(fishes)    \n",
    "    for d in range(days):\n",
    "        new_fishes = fishes_with_timer[0]        \n",
    "        for timer in range(1, 9):\n",
    "            fishes_with_timer[timer-1] = fishes_with_timer[timer]\n",
    "        fishes_with_timer[8] = new_fishes\n",
    "        fishes_with_timer[6] += new_fishes\n",
    "    return fishes_with_timer        \n",
    "\n",
    "answer_1 = sum(count_lanternfishes_after(initial_fishes, 80).values())\n",
    "answer_2 = sum(count_lanternfishes_after(initial_fishes, 256).values())\n",
    "\n",
    "print(f\"answer_1: {answer_1}\")\n",
    "print(f\"answer_2: {answer_2}\")\n"
   ]
  }
 ],
 "metadata": {
  "interpreter": {
   "hash": "d8c346c07515e26576ee8584eb88add6946456e578d3a189ac90c2a0320343e6"
  },
  "kernelspec": {
   "display_name": "Python 3.9.5 64-bit ('aoc2021': conda)",
   "language": "python",
   "name": "python3"
  },
  "language_info": {
   "codemirror_mode": {
    "name": "ipython",
    "version": 3
   },
   "file_extension": ".py",
   "mimetype": "text/x-python",
   "name": "python",
   "nbconvert_exporter": "python",
   "pygments_lexer": "ipython3",
   "version": "3.9.5"
  },
  "orig_nbformat": 4
 },
 "nbformat": 4,
 "nbformat_minor": 2
}
