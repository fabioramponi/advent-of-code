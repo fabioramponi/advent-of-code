{
 "cells": [
  {
   "cell_type": "code",
   "execution_count": 125,
   "metadata": {},
   "outputs": [
    {
     "name": "stdout",
     "output_type": "stream",
     "text": [
      "answer: 557\n"
     ]
    }
   ],
   "source": [
    "with open(\"input.txt\", \"r\") as f:\n",
    "    initial_positions = {}\n",
    "    m = list(map(lambda l: list(l),f.read().splitlines()))\n",
    "    for r,line in enumerate(m):\n",
    "        for c,el in enumerate(line):\n",
    "            if el!=\".\":\n",
    "                initial_positions[(r,c)] = el    \n",
    "    n_rows = len(m)\n",
    "    n_cols = len(m[0])\n",
    "\n",
    "              \n",
    "positions = initial_positions.copy()\n",
    "n_moves = 0\n",
    "while True:\n",
    "    new_r_positions = set()\n",
    "    new_d_positions = set()\n",
    "    for (r,c), el in positions.items():\n",
    "        if el==\">\":\n",
    "            new_pos = ((r,c),(r,(c+1)%n_cols))\n",
    "            new_r_positions.add(new_pos)\n",
    "        else:\n",
    "            new_pos = ((r,c),((r+1)%n_rows,c))\n",
    "            new_d_positions.add(new_pos)\n",
    "            \n",
    "    new_positions = positions.copy()\n",
    "    for (old_pos, new_pos) in new_r_positions:\n",
    "        if new_pos not in positions:\n",
    "            new_positions.pop(old_pos)\n",
    "            new_positions[new_pos] = \">\"   \n",
    "    after_r_moves = new_positions.copy()        \n",
    "    for (old_pos, new_pos) in new_d_positions:\n",
    "        if new_pos not in after_r_moves:\n",
    "            new_positions.pop(old_pos)\n",
    "            new_positions[new_pos] = \"v\"\n",
    "    \n",
    "    n_moves += 1\n",
    "    if new_positions == positions:\n",
    "        break\n",
    "    else:\n",
    "        positions = new_positions\n",
    "\n",
    "print(f\"answer: {n_moves}\")"
   ]
  }
 ],
 "metadata": {
  "interpreter": {
   "hash": "d8c346c07515e26576ee8584eb88add6946456e578d3a189ac90c2a0320343e6"
  },
  "kernelspec": {
   "display_name": "Python 3.9.5 64-bit ('aoc2021': conda)",
   "language": "python",
   "name": "python3"
  },
  "language_info": {
   "codemirror_mode": {
    "name": "ipython",
    "version": 3
   },
   "file_extension": ".py",
   "mimetype": "text/x-python",
   "name": "python",
   "nbconvert_exporter": "python",
   "pygments_lexer": "ipython3",
   "version": "3.9.5"
  },
  "orig_nbformat": 4
 },
 "nbformat": 4,
 "nbformat_minor": 2
}
