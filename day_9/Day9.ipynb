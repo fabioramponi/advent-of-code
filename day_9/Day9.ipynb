{
 "cells": [
  {
   "cell_type": "code",
   "execution_count": 52,
   "metadata": {},
   "outputs": [
    {
     "name": "stdout",
     "output_type": "stream",
     "text": [
      "answer_1: 480\n",
      "answer_2: 1045660\n"
     ]
    }
   ],
   "source": [
    "import numpy as np\n",
    "import math\n",
    "from dataclasses import dataclass\n",
    "\n",
    "@dataclass \n",
    "class Coord:\n",
    "    row: int\n",
    "    col: int\n",
    "    \n",
    "    def __hash__(self) -> int:\n",
    "        return hash(repr(self))\n",
    "\n",
    "hmap = []\n",
    "with open(\"input.txt\", \"r\") as f:\n",
    "    lines = f.readlines()\n",
    "    for l in lines:\n",
    "        if l[-1] == '\\n':\n",
    "            l = l[:-1]\n",
    "        hmap.append(list(map(int, list(l))))\n",
    "    hmap = np.matrix(hmap)\n",
    "    \n",
    "def neighbors(m: np.matrix, row: int, col: int):\n",
    "    nb =[] \n",
    "    if (col>0):\n",
    "        nb.append((Coord(row, col-1),m[row, col-1]))\n",
    "    if col<(m.shape[1]-1):\n",
    "        nb.append((Coord(row, col+1),m[row, col+1]))\n",
    "    if (row>0):\n",
    "        nb.append((Coord(row-1, col),m[row-1, col]))\n",
    "    if row<(m.shape[0]-1):\n",
    "        nb.append((Coord(row+1, col),m[row+1, col]))\n",
    "    return nb\n",
    "\n",
    "mins = []\n",
    "answer_1 = 0\n",
    "for index, x in np.ndenumerate(hmap):\n",
    "    if x < min(map(lambda x: x[1], neighbors(hmap, index[0], index[1]))):\n",
    "        mins.append(Coord(index[0], index[1]))\n",
    "        answer_1 += 1+x\n",
    "\n",
    "print(f\"answer_1: {answer_1}\") \n",
    "\n",
    "def find_basin(min_idx :Coord, m, already_passed: set):\n",
    "    nb = neighbors(m, min_idx.row, min_idx.col)\n",
    "    for n in nb:\n",
    "        if n[1] != 9 and n[0] not in already_passed:\n",
    "            already_passed.add(n[0])\n",
    "            find_basin(n[0], m, already_passed)            \n",
    "        \n",
    "sizes = []\n",
    "for m in mins:\n",
    "    already_passed = {m}\n",
    "    find_basin(m, hmap, already_passed)\n",
    "    sizes.append(len(already_passed))\n",
    "sizes.sort()\n",
    "answer_2 = math.prod(sizes[-3:])\n",
    "print(f\"answer_2: {answer_2}\")    \n",
    "            \n",
    "            \n",
    "              \n"
   ]
  }
 ],
 "metadata": {
  "interpreter": {
   "hash": "d8c346c07515e26576ee8584eb88add6946456e578d3a189ac90c2a0320343e6"
  },
  "kernelspec": {
   "display_name": "Python 3.9.5 64-bit ('aoc2021': conda)",
   "language": "python",
   "name": "python3"
  },
  "language_info": {
   "codemirror_mode": {
    "name": "ipython",
    "version": 3
   },
   "file_extension": ".py",
   "mimetype": "text/x-python",
   "name": "python",
   "nbconvert_exporter": "python",
   "pygments_lexer": "ipython3",
   "version": "3.9.5"
  },
  "orig_nbformat": 4
 },
 "nbformat": 4,
 "nbformat_minor": 2
}
